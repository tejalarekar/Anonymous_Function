{
 "cells": [
  {
   "cell_type": "markdown",
   "id": "dc591c6d",
   "metadata": {},
   "source": [
    "### 1. Write a Python program to sort a list of tuples using Lambda."
   ]
  },
  {
   "cell_type": "code",
   "execution_count": 3,
   "id": "ae7462ec",
   "metadata": {},
   "outputs": [
    {
     "name": "stdout",
     "output_type": "stream",
     "text": [
      "Sorted list of tuples using Lambda is :[3, 14, 23, 25, 56, 98]\n"
     ]
    }
   ],
   "source": [
    "def get_sorttuple(tup1):\n",
    "    output_tup = (lambda l:sorted(l))(tup1)\n",
    "    return output_tup\n",
    "\n",
    "tup1 = (23,56,25,14,98,3)\n",
    "print(f\"Sorted list of tuples using Lambda is :{get_sorttuple(tup1)}\")"
   ]
  },
  {
   "cell_type": "markdown",
   "id": "d0ba79aa",
   "metadata": {},
   "source": [
    "### 2. Write a Python program to sort a list of dictionaries using Lambda"
   ]
  },
  {
   "cell_type": "code",
   "execution_count": 178,
   "id": "d69609e1",
   "metadata": {},
   "outputs": [
    {
     "name": "stdout",
     "output_type": "stream",
     "text": [
      " Sorted dictionary : [(1, 'Csharp'), (2, 'Java'), (3, 'SQL'), (4, 'Python'), (5, 'C')] \n",
      " Sorted dictionary : [('area', 'Pune'), ('batch', 'Morning'), ('class', 'Python'), ('name', 'Tejal')] \n"
     ]
    }
   ],
   "source": [
    "dict_alpha = {\"name\": \"Tejal\", \"class\":\"Python\", \"area\":\"Pune\", \"batch\":\"Morning\"}\n",
    "dict_num   = {5:\"C\", 3:\"SQL\", 2:\"Java\", 4:\"Python\", 1:\"Csharp\"}\n",
    "\n",
    "\n",
    "sorted_dict_num = sorted(dict_num.items(), key = lambda da:da)\n",
    "print(f\" Sorted dictionary : {sorted_dict_num} \")\n",
    "\n",
    "sorted_dict_name = sorted(dict_alpha.items(), key = lambda da:da)\n",
    "print(f\" Sorted dictionary : {sorted_dict_name} \")\n"
   ]
  },
  {
   "cell_type": "markdown",
   "id": "b954a424",
   "metadata": {},
   "source": [
    "### 3. Write a Python program to find square and cube every number in a given list of integers using Lambda"
   ]
  },
  {
   "cell_type": "code",
   "execution_count": 17,
   "id": "fcd9e12c",
   "metadata": {},
   "outputs": [
    {
     "name": "stdout",
     "output_type": "stream",
     "text": [
      "Enter the count of numbers : 5\n",
      "Enter the number : 5\n",
      "Enter the number : 3\n",
      "Enter the number : 4\n",
      "Enter the number : 7\n",
      "Enter the number : 2\n",
      "Square and cube of given number is : {5: [25, 125], 3: [9, 27], 4: [16, 64], 7: [49, 343], 2: [4, 8]}\n"
     ]
    }
   ],
   "source": [
    "def get_sqrAndcube(num_list):\n",
    "    sqr_num = (lambda lt:{i:[i**2,i**3] for i in lt})(num_list)\n",
    "    return sqr_num\n",
    "\n",
    "num = int(eval(input(\"Enter the count of numbers : \")))\n",
    "num_list = []\n",
    "for i in range(num):\n",
    "    num_list.append(int(eval(input(\"Enter the number : \")))) \n",
    "\n",
    "print(f\"Square and cube of given number is : {get_sqrAndcube(num_list)}\")"
   ]
  },
  {
   "cell_type": "markdown",
   "id": "d65aa73c",
   "metadata": {},
   "source": [
    "### 4. Write a Python program to find if a given string starts with a given character using Lambda"
   ]
  },
  {
   "cell_type": "code",
   "execution_count": 23,
   "id": "18c79983",
   "metadata": {},
   "outputs": [
    {
     "name": "stdout",
     "output_type": "stream",
     "text": [
      "List of strings Starting with 'm' is : ['Moulika', 'Megha', 'Meena']\n"
     ]
    }
   ],
   "source": [
    "def get_startswithchar(out_Strlist):\n",
    "    out_Strlist = list(filter(lambda lst:lst.lower().startswith(\"m\"),str_list))\n",
    "    return out_Strlist\n",
    "\n",
    "str_list = [\"Tejal\",\"Sam\",\"Moulika\",\"Tina\",\"Megha\",\"Meena\"]\n",
    "print(f\"List of strings Starting with 'm' is : {get_startswithchar(str_list)}\")"
   ]
  },
  {
   "cell_type": "markdown",
   "id": "13df91d9",
   "metadata": {},
   "source": [
    "### 5. Write a Python program to check whether a given string is number or not using Lambda"
   ]
  },
  {
   "cell_type": "code",
   "execution_count": 1,
   "id": "997883d1",
   "metadata": {},
   "outputs": [
    {
     "name": "stdout",
     "output_type": "stream",
     "text": [
      "Enter the string :123\n",
      "Given string '123' is : Number \n"
     ]
    }
   ],
   "source": [
    "def get_isnum(input_str):\n",
    "    output_strORnum = (lambda g_str:g_str.isdecimal())(input_str)\n",
    "    output_Str = (lambda g_str:g_str.isalpha())(input_str)\n",
    "    if output_strORnum == True: return \"Number\"\n",
    "    else: \n",
    "        if output_Str == True: return \"String\"\n",
    "        else: return \"Alphanumeric\"\n",
    "    \n",
    "input_str = input(\"Enter the string :\")\n",
    "print(f\"Given string '{input_str}' is : {get_isnum(input_str)} \")"
   ]
  },
  {
   "cell_type": "code",
   "execution_count": 52,
   "id": "81eee6b4",
   "metadata": {},
   "outputs": [
    {
     "name": "stdout",
     "output_type": "stream",
     "text": [
      "Enter the string :tejal\n",
      "Given string 'tejal' is : String \n"
     ]
    }
   ],
   "source": [
    "input_str = input(\"Enter the string :\")\n",
    "print(f\"Given string '{input_str}' is : {get_isnum(input_str)} \")"
   ]
  },
  {
   "cell_type": "code",
   "execution_count": 53,
   "id": "b75cbb18",
   "metadata": {},
   "outputs": [
    {
     "name": "stdout",
     "output_type": "stream",
     "text": [
      "Enter the string :python3\n",
      "Given string 'python3' is : Alphanumeric \n"
     ]
    }
   ],
   "source": [
    "input_str = input(\"Enter the string :\")\n",
    "print(f\"Given string '{input_str}' is : {get_isnum(input_str)} \")"
   ]
  },
  {
   "cell_type": "markdown",
   "id": "dc4cb0a4",
   "metadata": {},
   "source": [
    "### 6. Write a Python program to create Fibonacci series using Lambda"
   ]
  },
  {
   "cell_type": "code",
   "execution_count": 39,
   "id": "e9a371b4",
   "metadata": {},
   "outputs": [
    {
     "name": "stdout",
     "output_type": "stream",
     "text": [
      "Fibonacci Series using lambda is : [0, 1, 1, 2, 3, 5]\n"
     ]
    }
   ],
   "source": [
    "from functools import reduce\n",
    "\n",
    "def get_fibbonacciSeries(lst_num,n):\n",
    "    for i in range(1,n-1):\n",
    "    #     total = (lambda lst:lst[i-1]+lst[i])(lst_num)\n",
    "        lst_num.append((lambda lst:sum(lst[-2:]))(lst_num))\n",
    "    return lst_num\n",
    "\n",
    "lst_num = [0,1]\n",
    "n = 6\n",
    "print(f\"Fibonacci Series using lambda is : {get_fibbonacciSeries(lst_num,n)}\")"
   ]
  },
  {
   "cell_type": "markdown",
   "id": "c2c5a1b1",
   "metadata": {},
   "source": [
    "### 7. Write a Python program to find the intersection of two given arrays using Lambda"
   ]
  },
  {
   "cell_type": "code",
   "execution_count": 28,
   "id": "b3f9aae4",
   "metadata": {},
   "outputs": [
    {
     "name": "stdout",
     "output_type": "stream",
     "text": [
      "Intersection of two arrays are : [3, 4]\n"
     ]
    }
   ],
   "source": [
    "def get_intersection(l1,l2):\n",
    "    return list((lambda l1,l2:set(l1).intersection(set(l2)))(l1,l2))\n",
    "\n",
    "l1 = [1,2,3,4]\n",
    "l2 = [3,4,5,6]\n",
    "print(f\"Intersection of two arrays are : {get_intersection(l1,l2)}\")"
   ]
  },
  {
   "cell_type": "markdown",
   "id": "a8c1ddf6",
   "metadata": {},
   "source": [
    "### 8. Write a Python program to rearrange positive and negative numbers in a given array using Lambda"
   ]
  },
  {
   "cell_type": "code",
   "execution_count": 15,
   "id": "916c7553",
   "metadata": {},
   "outputs": [
    {
     "name": "stdout",
     "output_type": "stream",
     "text": [
      "Arranged positive and negative list of numbers is [-2, -6, -15, -5, -9, 3, 2, 1, 2, 1, 7]\n"
     ]
    }
   ],
   "source": [
    "# Way 1 - By using filter and map\n",
    "\n",
    "l_num = [-2,-6,3,2,1,-6-5-4,2,1,3-8,7,-9]\n",
    "pos_num = list(filter(lambda ln:str(ln).isdecimal() , l_num))\n",
    "neg_num = list(filter(lambda ln:not str(ln).isdecimal() , l_num))\n",
    "print(f\"Arranged positive and negative list of numbers is {neg_num + pos_num}\")"
   ]
  },
  {
   "cell_type": "code",
   "execution_count": 23,
   "id": "c876fb14",
   "metadata": {},
   "outputs": [
    {
     "name": "stdout",
     "output_type": "stream",
     "text": [
      "Arranged positive and negative list of numbers is [3, 2, 1, 2, 1, 7, -2, -6, -15, -5, -9]\n"
     ]
    }
   ],
   "source": [
    "# Way 2 - By using sorted \n",
    "\n",
    "l_num = [-2,-6,3,2,1,-6-5-4,2,1,3-8,7,-9]\n",
    "out_list = sorted(l_num,key= lambda i: 0 if str(i).isdecimal() else 1)\n",
    "print(f\"Arranged positive and negative list of numbers is {out_list}\")"
   ]
  },
  {
   "cell_type": "markdown",
   "id": "875d6455",
   "metadata": {},
   "source": [
    "### 9. Write a Python program to count the even, odd numbers in a given array of integers using Lambda"
   ]
  },
  {
   "cell_type": "code",
   "execution_count": 24,
   "id": "d0bb44cc",
   "metadata": {},
   "outputs": [
    {
     "name": "stdout",
     "output_type": "stream",
     "text": [
      "Count of even :3 and odd numbers :4 in a given array of integers [1, 2, 3, 4, 5, 6, 7]\n"
     ]
    }
   ],
   "source": [
    "from functools import reduce\n",
    "lst = [1,2,3,4,5,6,7]\n",
    "even = len(list(filter(lambda l:(l%2==0),lst)))\n",
    "odd  = len(list(filter(lambda l:(l%2),lst)))\n",
    "print(f\"Count of even :{even} and odd numbers :{odd} in a given array of integers {lst}\")"
   ]
  },
  {
   "cell_type": "markdown",
   "id": "ba1895a2",
   "metadata": {},
   "source": [
    "### 10. Write a Python program to add two given lists using map and lambda"
   ]
  },
  {
   "cell_type": "code",
   "execution_count": 1,
   "id": "f6b502a9",
   "metadata": {},
   "outputs": [
    {
     "data": {
      "text/plain": [
       "21"
      ]
     },
     "execution_count": 1,
     "metadata": {},
     "output_type": "execute_result"
    }
   ],
   "source": [
    "l1 = [1,2,3,4]\n",
    "l2 = [5,6]\n",
    "sum = (lambda l1,l2:sum(l1+l2))(l1,l2)\n",
    "sum"
   ]
  },
  {
   "cell_type": "markdown",
   "id": "af9e6745",
   "metadata": {},
   "source": [
    "### 11. Write a Python program to find numbers divisible by nineteen or thirteen from a list of numbers using Lambda"
   ]
  },
  {
   "cell_type": "code",
   "execution_count": 43,
   "id": "f686373a",
   "metadata": {},
   "outputs": [],
   "source": [
    "my_list = [12, 65, 54, 39, 102, 339, 221, 50, 70]\n",
    "# Output : [65, 39, 221]"
   ]
  },
  {
   "cell_type": "code",
   "execution_count": 46,
   "id": "02205933",
   "metadata": {},
   "outputs": [
    {
     "name": "stdout",
     "output_type": "stream",
     "text": [
      "A list of numbers [12, 65, 54, 39, 102, 339, 221, 50, 70] divisible by 19 or 16 is : [65, 39, 221]\n"
     ]
    }
   ],
   "source": [
    "my_list = [12, 65, 54, 39, 102, 339, 221, 50, 70]\n",
    "out_list = list(filter(lambda l:l%13==0 or l%19==0, my_list))\n",
    "print(f\"A list of numbers {my_list} divisible by 19 or 16 is : {out_list}\")"
   ]
  },
  {
   "cell_type": "markdown",
   "id": "df8ca770",
   "metadata": {},
   "source": [
    "### 12. Write a Python program to find palindromes in a given list of strings using Lambda"
   ]
  },
  {
   "cell_type": "code",
   "execution_count": 62,
   "id": "bc433e5c",
   "metadata": {},
   "outputs": [
    {
     "name": "stdout",
     "output_type": "stream",
     "text": [
      "The list of string to find palindrome is :['madam', '01010', 'top pot']\n"
     ]
    }
   ],
   "source": [
    "string = [\"madam\",\"sir\",\"01010\",\"top pot\"]\n",
    "out_list = list(filter(lambda st:(st==\"\".join(list(reversed(st)))), string))\n",
    "print(f\"The list of string to find palindrome is :{out_list}\")"
   ]
  },
  {
   "cell_type": "markdown",
   "id": "e89dabd2",
   "metadata": {},
   "source": [
    "### 13. Write a Python program to find all anagrams of a string in a given list of strings using lambda"
   ]
  },
  {
   "cell_type": "code",
   "execution_count": 67,
   "id": "5c06ca5b",
   "metadata": {},
   "outputs": [
    {
     "name": "stdout",
     "output_type": "stream",
     "text": [
      "The list of all anagrams of a string 'opst' is : ['pots', 'spot', 'tops', 'opts', 'stop'] \n"
     ]
    }
   ],
   "source": [
    "lst_string = [\"hots\", \"pots\", \"tots\", \"spot\", \"tops\", \"opts\", \"pops\", \"stop\" ]\n",
    "# find anagram of \"opst\"\n",
    "anag = \"opst\"\n",
    "anagram_list = list(filter(lambda sl:anag == \"\".join(sorted(sl)), lst_string))\n",
    "print(f\"The list of all anagrams of a string '{anag}' is : {anagram_list} \")\n"
   ]
  },
  {
   "cell_type": "markdown",
   "id": "31920194",
   "metadata": {},
   "source": [
    "### 14. Write a Python program that multiplies each number of a given list with a given number using lambda function. Print the result"
   ]
  },
  {
   "cell_type": "code",
   "execution_count": 69,
   "id": "49e09705",
   "metadata": {},
   "outputs": [
    {
     "name": "stdout",
     "output_type": "stream",
     "text": [
      " Multiplication of '11' with each element of list '[10, 20, 30, 40, 50]' is : [110, 220, 330, 440, 550]\n"
     ]
    }
   ],
   "source": [
    "num_lst = [10,20,30,40,50]\n",
    "num = 11\n",
    "out_list = list(map(lambda n:n*num , num_lst))\n",
    "print(f\" Multiplication of '{num}' with each element of list '{num_lst}' is : {out_list}\")"
   ]
  },
  {
   "cell_type": "markdown",
   "id": "ea44573e",
   "metadata": {},
   "source": [
    "### 15. Write a Python program to calculate the sum of the positive and negative numbers of a given list of numbers using lambda function"
   ]
  },
  {
   "cell_type": "code",
   "execution_count": 31,
   "id": "fa7aa7f5",
   "metadata": {},
   "outputs": [
    {
     "name": "stdout",
     "output_type": "stream",
     "text": [
      " Sum of all positive numbers is : 26, and negative number : -18\n"
     ]
    }
   ],
   "source": [
    "from functools import reduce\n",
    "int_lst = [1,2,-1,5,-3,4,-6,4,-5,-3,10]\n",
    "\n",
    "positive_sum = reduce(lambda x,y:x+y, list(filter(lambda il:str(il).isdecimal(), int_lst)))\n",
    "negative_sum = reduce(lambda x,y:x+y, list(filter(lambda il:not str(il).isdecimal(), int_lst)))\n",
    "print(f\" Sum of all positive numbers is : {positive_sum}, and negative number : {negative_sum}\")\n"
   ]
  },
  {
   "cell_type": "markdown",
   "id": "d942cb78",
   "metadata": {},
   "source": [
    "### 16. Write a Python program to find the list with maximum and minimum length using lambda"
   ]
  },
  {
   "cell_type": "code",
   "execution_count": 32,
   "id": "904d4d60",
   "metadata": {},
   "outputs": [
    {
     "name": "stdout",
     "output_type": "stream",
     "text": [
      "List with minimum length : [1, [23]]\n",
      "List with maximum length : [5, [25, 65, 89, 12, 32]]\n"
     ]
    }
   ],
   "source": [
    "lst = [[23,65,67],[23],[12,56],[25,65,89,12,32],[23,56]]\n",
    "ouput_lst = (lambda l1:[len(i) for i in l1])(lst)\n",
    "\n",
    "# Calculation of list of minimun length  \n",
    "min_length = min(ouput_lst)\n",
    "min_list = [min_length] + (list(filter(lambda l1:len(l1)==min_length,lst)))\n",
    "\n",
    "# Calculation of list of maximum length\n",
    "max_length = max(ouput_lst)\n",
    "max_list = [max_length] + (list(filter(lambda l1:len(l1)==max_length,lst)))\n",
    "\n",
    "print(f\"List with minimum length : {min_list}\")\n",
    "print(f\"List with maximum length : {max_list}\")"
   ]
  },
  {
   "cell_type": "markdown",
   "id": "a1ab3134",
   "metadata": {},
   "source": [
    "### 17. Write a Python program to check whether a specified list is sorted or not using lambda\n"
   ]
  },
  {
   "cell_type": "code",
   "execution_count": 189,
   "id": "e11d665d",
   "metadata": {},
   "outputs": [
    {
     "name": "stdout",
     "output_type": "stream",
     "text": [
      "List is Not Sorted\n"
     ]
    }
   ],
   "source": [
    "lst = [2, 5, 6, 8, 3]\n",
    "lst1 = [1,2,3,4,5]\n",
    "\n",
    "check_list = (lambda nl:\"Sorted\" if nl==sorted(nl) else \"Not Sorted\")(lst)\n",
    "print(f\"List is {check_list}\")"
   ]
  },
  {
   "cell_type": "markdown",
   "id": "2049c4f1",
   "metadata": {},
   "source": [
    "### 18. Write a Python program to remove all elements from a given list present in another list using lambda."
   ]
  },
  {
   "cell_type": "code",
   "execution_count": null,
   "id": "086a98af",
   "metadata": {},
   "outputs": [],
   "source": [
    "The original list is : [1, 3, 4, 6, 7]\n",
    "The original list is : [3, 6]\n",
    "The list after performing remove operation is : [1, 4, 7]"
   ]
  },
  {
   "cell_type": "code",
   "execution_count": 55,
   "id": "0f413ead",
   "metadata": {},
   "outputs": [
    {
     "name": "stdout",
     "output_type": "stream",
     "text": [
      "Original List '[1, 4, 7]' after removing elements '[3, 6]' is : [1, 4, 7] \n"
     ]
    }
   ],
   "source": [
    "lst1 = [1, 3, 4, 6, 7]\n",
    "lst2 = [3, 6]\n",
    "((lambda l:[lst1.remove(i) for i in l[:] if i in lst2])(lst1))\n",
    "print(f\"Original List '{lst1}' after removing elements '{lst2}' is : {lst1} \")"
   ]
  },
  {
   "cell_type": "markdown",
   "id": "ce4a966e",
   "metadata": {},
   "source": [
    "### 19. Write a Python program to convert string element to integer inside a given tuple using"
   ]
  },
  {
   "cell_type": "code",
   "execution_count": 76,
   "id": "4b3f78d8",
   "metadata": {},
   "outputs": [
    {
     "name": "stdout",
     "output_type": "stream",
     "text": [
      "Input list is : [('222.23', '33'), ('1416', '55.5'), ('234.5', '34')]\n",
      "Converted String element into integer : [(222, 33), (1416, 55), (234, 34)]\n"
     ]
    }
   ],
   "source": [
    "list_tuple = [('222.23','33'),('1416','55.5'),('234.5','34')]\n",
    "out_list = (lambda l:[(int(eval(i[0])),int(eval(i[1]))) for i in l])(list_tuple)\n",
    "print(f\"Input list is : {list_tuple}\")\n",
    "print(f\"Converted String element into integer : {out_list}\")"
   ]
  },
  {
   "cell_type": "markdown",
   "id": "be534260",
   "metadata": {},
   "source": [
    "### 20. Write a Python program to count the occurrences of the items in a given list using lambda"
   ]
  },
  {
   "cell_type": "code",
   "execution_count": 56,
   "id": "06dba925",
   "metadata": {},
   "outputs": [
    {
     "name": "stdout",
     "output_type": "stream",
     "text": [
      "Occurrences of items are {1: 5, 2: 5, 3: 3, 5: 3, 4: 2, 6: 2, 7: 1}\n"
     ]
    }
   ],
   "source": [
    "lst = [1,2,3,5,2,1,3,4,6,7,2,1,3,4,6,5,2,1,2,1,5]\n",
    "list_dict = (lambda l:{i:l.count(i) for i in l})(lst)\n",
    "print(f\"Occurrences of items are {list_dict}\")"
   ]
  },
  {
   "cell_type": "markdown",
   "id": "6aad4c23",
   "metadata": {},
   "source": [
    "### 21. Write a Python program to add three given lists using Python map and lambda"
   ]
  },
  {
   "cell_type": "code",
   "execution_count": 57,
   "id": "ae9384bb",
   "metadata": {},
   "outputs": [
    {
     "name": "stdout",
     "output_type": "stream",
     "text": [
      "Addition of three given list is [14, 8, 10]\n"
     ]
    }
   ],
   "source": [
    "l1 = [1,2,3]\n",
    "l2 = [5,3,2]\n",
    "l3 = [8,3,5]\n",
    "out_lst = list(map(lambda x,y,z:x+y+z ,l1,l2,l3))\n",
    "print(f\"Addition of three given list is {out_lst}\")"
   ]
  },
  {
   "cell_type": "code",
   "execution_count": 67,
   "id": "9fedcdda",
   "metadata": {},
   "outputs": [
    {
     "name": "stdout",
     "output_type": "stream",
     "text": [
      "Addition of three given list is 32\n"
     ]
    }
   ],
   "source": [
    "l1 = [1,2,3]\n",
    "l2 = [5,3,2]\n",
    "l3 = [8,3,5]\n",
    "out_lst = reduce(lambda a,b:a+b ,list(map(lambda x,y,z:x+y+z,l1,l2,l3)))\n",
    "print(f\"Addition of three given list is {out_lst}\")"
   ]
  },
  {
   "cell_type": "markdown",
   "id": "8a01d1f2",
   "metadata": {},
   "source": [
    "### 22. Write a Python program to listify the list of given strings individually using Python map"
   ]
  },
  {
   "cell_type": "code",
   "execution_count": 72,
   "id": "03c8fc61",
   "metadata": {},
   "outputs": [
    {
     "name": "stdout",
     "output_type": "stream",
     "text": [
      "The list to listify of given String  '['Tejal', 'Gauri', 'Neha', 'Chaitali']' is:\n",
      "[['T', 'e', 'j', 'a', 'l'], ['G', 'a', 'u', 'r', 'i'], ['N', 'e', 'h', 'a'], ['C', 'h', 'a', 'i', 't', 'a', 'l', 'i']]\n"
     ]
    }
   ],
   "source": [
    "str_lst = ['Tejal','Gauri','Neha','Chaitali']\n",
    "out_list = list(map(lambda sl:list(sl) ,str_lst))\n",
    "print(f\"The list to listify of given String  '{str_lst}' is:\") \n",
    "print(out_list)"
   ]
  },
  {
   "cell_type": "markdown",
   "id": "a9bfea19",
   "metadata": {},
   "source": [
    "### 23. Write a Python program to square the elements of a list using map() function"
   ]
  },
  {
   "cell_type": "code",
   "execution_count": 74,
   "id": "29c56624",
   "metadata": {},
   "outputs": [
    {
     "name": "stdout",
     "output_type": "stream",
     "text": [
      "The list square of range 1 to 10 is : [1, 4, 9, 16, 25, 36, 49, 64, 81, 100]\n"
     ]
    }
   ],
   "source": [
    "square_list = list(map(lambda i:i**2,range(1,11)))\n",
    "print(f\"The list square of range 1 to 10 is : {square_list}\")"
   ]
  },
  {
   "cell_type": "markdown",
   "id": "6e671be8",
   "metadata": {},
   "source": [
    "### 24. Write a Python program to add two given lists and find the difference between lists. Use map() function"
   ]
  },
  {
   "cell_type": "code",
   "execution_count": 86,
   "id": "1f201953",
   "metadata": {},
   "outputs": [
    {
     "name": "stdout",
     "output_type": "stream",
     "text": [
      "The difference between the addition of 2 lists is : [-10]\n"
     ]
    }
   ],
   "source": [
    "list1 = [ 2, 8, 9, 7]\n",
    "list2 = [10, 5, 6, 15]\n",
    "differnce_list = list(map(lambda x,y:x-y,[reduce(lambda x,y:x+y,list1)],[reduce(lambda x,y:x+y,list2)]))\n",
    "print(f\"The difference between the addition of 2 lists is : {differnce_list}\")"
   ]
  },
  {
   "cell_type": "code",
   "execution_count": 81,
   "id": "d33bf3b4",
   "metadata": {},
   "outputs": [
    {
     "data": {
      "text/plain": [
       "[26]"
      ]
     },
     "execution_count": 81,
     "metadata": {},
     "output_type": "execute_result"
    }
   ],
   "source": [
    "[reduce(lambda x,y:x+y,list1)]"
   ]
  },
  {
   "cell_type": "code",
   "execution_count": 79,
   "id": "ca2d3454",
   "metadata": {},
   "outputs": [
    {
     "data": {
      "text/plain": [
       "36"
      ]
     },
     "execution_count": 79,
     "metadata": {},
     "output_type": "execute_result"
    }
   ],
   "source": [
    "(reduce(lambda x,y:x+y,list2))"
   ]
  },
  {
   "cell_type": "markdown",
   "id": "57c75aa4",
   "metadata": {},
   "source": [
    "### 25. Write a Python program to convert a given list of integers and a tuple of integers in a list of strings"
   ]
  },
  {
   "cell_type": "code",
   "execution_count": 97,
   "id": "15b64e6b",
   "metadata": {},
   "outputs": [
    {
     "name": "stdout",
     "output_type": "stream",
     "text": [
      "Converted List of integer and a tuple of integer in an list of string is : \n",
      "['21', '22', '23', '24', '25']\n",
      "('10', '20', '30', '40')\n"
     ]
    }
   ],
   "source": [
    "list1 = [21,22,23,24,25]\n",
    "tup1  = (10,20,30,40)\n",
    "\n",
    "list_string_list1 = (list(map(lambda x:str(x) , list1)))\n",
    "tuple_string_tup1 = (tuple(map(lambda x:str(x) , tup1)))\n",
    "\n",
    "print(\"Converted List of integer and a tuple of integer in an list of string is : \")\n",
    "print(list_string_list1)\n",
    "print(tuple_string_tup1)"
   ]
  },
  {
   "cell_type": "markdown",
   "id": "363e1bf7",
   "metadata": {},
   "source": [
    "### 26. Write a Python program to compute the sum of elements of an given array of integers, use map() function"
   ]
  },
  {
   "cell_type": "code",
   "execution_count": 114,
   "id": "0c11dfe3",
   "metadata": {},
   "outputs": [
    {
     "name": "stdout",
     "output_type": "stream",
     "text": [
      "The sum of elements of an given array of integers using reduce() is : 24\n",
      "The sum of elements of an given array of integers using map() is    : 24\n"
     ]
    }
   ],
   "source": [
    "lst = [1,2,3,4,6,8]\n",
    "\n",
    "sum_list_reduce = reduce(lambda x,y:(x+y), lst)\n",
    "\n",
    "\n",
    "sum_elements = reduce(lambda x,y:x+y ,list(map(lambda x: x , lst)))\n",
    "print(f\"The sum of elements of an given array of integers using reduce() is : {sum_list_reduce}\")\n",
    "print(f\"The sum of elements of an given array of integers using map() is    : {sum_elements}\")"
   ]
  },
  {
   "cell_type": "markdown",
   "id": "c2c8eedc",
   "metadata": {},
   "source": [
    "### 27. Write a Python program to count the same pair in two given lists. use map() function"
   ]
  },
  {
   "cell_type": "code",
   "execution_count": 124,
   "id": "e958079f",
   "metadata": {},
   "outputs": [
    {
     "name": "stdout",
     "output_type": "stream",
     "text": [
      "The count of same pair in two given lists are : 3\n"
     ]
    }
   ],
   "source": [
    "list1 = [2,3,5,4,7,9]\n",
    "list2 = [1,3,4,5,7,9]\n",
    "\n",
    "same_count =list(map(lambda l1,l2:l1==l2 ,list1,list2)).count(True)\n",
    "print(f\"The count of same pair in two given lists are : {same_count}\") "
   ]
  },
  {
   "cell_type": "markdown",
   "id": "6c1de32e",
   "metadata": {},
   "source": [
    "### 28. Write a Python program to convert a given list of strings into list of lists using map function"
   ]
  },
  {
   "cell_type": "code",
   "execution_count": 133,
   "id": "4afe8eff",
   "metadata": {},
   "outputs": [
    {
     "name": "stdout",
     "output_type": "stream",
     "text": [
      "Conversion of given list of strings into list of lists: \n",
      "[['C', 'a', 't'], ['D', 'o', 'g'], ['R', 'a', 'b', 'b', 'i', 't'], ['P', 'e', 'a', 'c', 'o', 'c', 'k'], ['B', 'i', 'r', 'd']]\n"
     ]
    }
   ],
   "source": [
    "string_list = [\"Cat\",\"Dog\",\"Rabbit\",\"Peacock\",\"Bird\"]\n",
    "list_list = list(map(lambda x:list(x) ,string_list))\n",
    "print(f\"Conversion of given list of strings into list of lists: \")\n",
    "print(list_list)"
   ]
  },
  {
   "cell_type": "markdown",
   "id": "1b16aaaa",
   "metadata": {},
   "source": [
    "### 29. Write a Python program to convert a given list of tuples to a list of strings using map function"
   ]
  },
  {
   "cell_type": "code",
   "execution_count": 137,
   "id": "b5e7c1e7",
   "metadata": {},
   "outputs": [
    {
     "name": "stdout",
     "output_type": "stream",
     "text": [
      "Conversion of given list of tuples to a list of strings using map function is : ['Vowels', 'aeiou']\n"
     ]
    }
   ],
   "source": [
    "list_tuple = [('V','o','w','e','l','s'),('a','e','i','o','u')]\n",
    "list_string = list(map(lambda lt:\"\".join(list(lt)) ,list_tuple))\n",
    "print(f\"Conversion of given list of tuples to a list of strings using map function is : {list_string}\")"
   ]
  },
  {
   "cell_type": "markdown",
   "id": "4fbe8446",
   "metadata": {},
   "source": [
    "### 30. Python program to find the diff. between two lists using filter() function"
   ]
  },
  {
   "cell_type": "code",
   "execution_count": 140,
   "id": "630b5139",
   "metadata": {},
   "outputs": [
    {
     "name": "stdout",
     "output_type": "stream",
     "text": [
      "The difference between two lists using filter() function : [1, 3, 4, 6, 8]\n"
     ]
    }
   ],
   "source": [
    "l1 = [1,2,3,4,5,6,7,8]\n",
    "l2 = [2,5,7]\n",
    "diff_list = list(filter(lambda l:l not in l2 ,l1))\n",
    "print(f\"The difference between two lists using filter() function : {diff_list}\")"
   ]
  },
  {
   "cell_type": "markdown",
   "id": "0a618000",
   "metadata": {},
   "source": [
    "### 31. Python program to remove stop words from string using filter() function"
   ]
  },
  {
   "cell_type": "code",
   "execution_count": 155,
   "id": "89fd9a19",
   "metadata": {},
   "outputs": [
    {
     "name": "stdout",
     "output_type": "stream",
     "text": [
      "List After remove stop words from string using filter() function is :\n",
      "['Data', 'science', 'interdisciplinary', 'field', 'uses', 'scientific', 'methods,', 'processes,', 'algorithms', 'systems', 'extract', 'knowledge', 'insights', 'noisy,', 'structured', 'unstructured', 'data,', 'apply', 'knowledge', 'data', 'across', 'broad', 'range', 'application', 'domains']\n"
     ]
    }
   ],
   "source": [
    "stopwords = {'ourselves', 'hers', 'between', 'yourself', 'but', 'again', 'there', 'about', 'once', 'during', 'out', 'very',\n",
    "             'having', 'with', 'they', 'own', 'an', 'be', 'some', 'for', 'do', 'its', 'yours', 'such', 'into', 'of', \n",
    "             'most', 'itself', 'other', 'off', 'is', 's', 'am', 'or', 'who', 'as', 'from', 'him', 'each', 'the', \n",
    "             'themselves', 'until', 'below', 'are', 'we', 'these', 'your', 'his', 'through', 'don', 'nor', 'me', 'were',\n",
    "             'her', 'more', 'himself', 'this', 'down', 'should', 'our', 'their', 'while', 'above', 'both', 'up', 'to', \n",
    "             'ours', 'had', 'she', 'all', 'no', 'when', 'at', 'any', 'before', 'them', 'same', 'and', 'been', 'have',\n",
    "             'in', 'will', 'on', 'does', 'yourselves', 'then', 'that', 'because', 'what', 'over', 'why', 'so', 'can',\n",
    "             'did', 'not', 'now', 'under', 'he', 'you', 'herself', 'has', 'just', 'where', 'too', 'only', 'myself', \n",
    "             'which', 'those', 'i', 'after', 'few', 'whom', 't', 'being', 'if', 'theirs', 'my', 'against', 'a', 'by',\n",
    "             'doing', 'it', 'how', 'further', 'was', 'here', 'than'}\n",
    "\n",
    "g_string = \"\"\"Data science is an interdisciplinary field that uses scientific methods, processes, \n",
    "algorithms and systems to extract knowledge and insights from noisy, \n",
    "structured and unstructured data, and apply knowledge from data across a broad range of application domains\"\"\"\n",
    "\n",
    "o_string_list = list(filter(lambda s:s not in stopwords ,g_string.split()))\n",
    "print(\"List After remove stop words from string using filter() function is :\")\n",
    "print(o_string_list)"
   ]
  },
  {
   "cell_type": "markdown",
   "id": "6174e5b1",
   "metadata": {},
   "source": [
    "### 32. Python program to find common items in two arrays using lambda and filter() function"
   ]
  },
  {
   "cell_type": "code",
   "execution_count": 158,
   "id": "168240d2",
   "metadata": {},
   "outputs": [
    {
     "name": "stdout",
     "output_type": "stream",
     "text": [
      "List of common items in two arrays using lambda and filter() function is :[2, 6, 8]\n"
     ]
    }
   ],
   "source": [
    "list1 = [2,4,6,8,3]\n",
    "list2 = [6,9,2,5,8,1,7]\n",
    "\n",
    "common_list = list(filter(lambda x:x in list2 ,list1))\n",
    "print(f\"List of common items in two arrays using lambda and filter() function is :{common_list}\")"
   ]
  },
  {
   "cell_type": "markdown",
   "id": "67038286",
   "metadata": {},
   "source": [
    "### 33. Python program to filter odd numbers from the list using filter() function"
   ]
  },
  {
   "cell_type": "code",
   "execution_count": 160,
   "id": "efcf43e5",
   "metadata": {},
   "outputs": [
    {
     "name": "stdout",
     "output_type": "stream",
     "text": [
      "List of odd numbers from the list using filter() function is : [9, 5, 1, 7]\n"
     ]
    }
   ],
   "source": [
    "num_list = [6,9,2,5,8,1,7]\n",
    "odd_num = list(filter(lambda n:n%2 ,num_list))\n",
    "print(f\"List of odd numbers from the list using filter() function is : {odd_num}\")"
   ]
  },
  {
   "cell_type": "markdown",
   "id": "64d2e268",
   "metadata": {},
   "source": [
    "### 34. Python program to filter even numbers from the list using filter() function"
   ]
  },
  {
   "cell_type": "code",
   "execution_count": 161,
   "id": "b0fc6266",
   "metadata": {},
   "outputs": [
    {
     "name": "stdout",
     "output_type": "stream",
     "text": [
      "List of even numbers from the list using filter() function is : [6, 2, 8]\n"
     ]
    }
   ],
   "source": [
    "num_list = [6,9,2,5,8,1,7]\n",
    "even_num = list(filter(lambda n:n%2==0 ,num_list))\n",
    "print(f\"List of even numbers from the list using filter() function is : {even_num}\")"
   ]
  },
  {
   "cell_type": "markdown",
   "id": "d41c4117",
   "metadata": {},
   "source": [
    "### 35. Python program that filters non-vowels from the list using filter() function"
   ]
  },
  {
   "cell_type": "code",
   "execution_count": 166,
   "id": "0b7d5950",
   "metadata": {},
   "outputs": [
    {
     "name": "stdout",
     "output_type": "stream",
     "text": [
      "List of non-vowels chars from the list using filter() function is : ['r', 't', 'g', 'S']\n"
     ]
    }
   ],
   "source": [
    "char_list = ['a','r','t','i','g','u','e','S','O','A']\n",
    "vowels = ['a','e','i','o','u']\n",
    "\n",
    "non_vowel_list = list(filter(lambda x:x.lower() not in vowels ,char_list))\n",
    "print(f\"List of non-vowels chars from the list using filter() function is : {non_vowel_list}\")"
   ]
  }
 ],
 "metadata": {
  "kernelspec": {
   "display_name": "Python 3 (ipykernel)",
   "language": "python",
   "name": "python3"
  },
  "language_info": {
   "codemirror_mode": {
    "name": "ipython",
    "version": 3
   },
   "file_extension": ".py",
   "mimetype": "text/x-python",
   "name": "python",
   "nbconvert_exporter": "python",
   "pygments_lexer": "ipython3",
   "version": "3.9.13"
  }
 },
 "nbformat": 4,
 "nbformat_minor": 5
}
